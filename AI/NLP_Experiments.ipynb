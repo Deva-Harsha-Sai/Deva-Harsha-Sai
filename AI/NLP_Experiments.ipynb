{
 "cells": [
  {
   "cell_type": "markdown",
   "id": "3160ff28",
   "metadata": {},
   "source": [
    "## Word Analysis"
   ]
  },
  {
   "cell_type": "code",
   "execution_count": null,
   "id": "9a6cf2a5",
   "metadata": {},
   "outputs": [],
   "source": [
    "# Word Analysis\n",
    "\n",
    "# Your code for word analysis goes here\n"
   ]
  },
  {
   "cell_type": "markdown",
   "id": "d3a65641",
   "metadata": {},
   "source": [
    "## Word Generation"
   ]
  },
  {
   "cell_type": "code",
   "execution_count": null,
   "id": "18c2daef",
   "metadata": {},
   "outputs": [],
   "source": [
    "# Word Generation\n",
    "\n",
    "# Your code for word generation goes here\n"
   ]
  },
  {
   "cell_type": "markdown",
   "id": "4e054d70",
   "metadata": {},
   "source": [
    "## Morphology"
   ]
  },
  {
   "cell_type": "code",
   "execution_count": null,
   "id": "7e237c6e",
   "metadata": {},
   "outputs": [],
   "source": [
    "# Morphology\n",
    "\n",
    "# Your code for morphology goes here\n"
   ]
  },
  {
   "cell_type": "markdown",
   "id": "97cbc57f",
   "metadata": {},
   "source": [
    "## N-Grams"
   ]
  },
  {
   "cell_type": "code",
   "execution_count": null,
   "id": "8e8db035",
   "metadata": {},
   "outputs": [],
   "source": [
    "# N-Grams\n",
    "\n",
    "# Your code for N-Grams goes here\n"
   ]
  },
  {
   "cell_type": "markdown",
   "id": "a439fdc7",
   "metadata": {},
   "source": [
    "## N-Grams Smoothing"
   ]
  },
  {
   "cell_type": "code",
   "execution_count": null,
   "id": "031ca2e9",
   "metadata": {},
   "outputs": [],
   "source": [
    "# N-Grams Smoothing\n",
    "\n",
    "# Your code for N-Grams smoothing goes here\n"
   ]
  }
 ],
 "metadata": {},
 "nbformat": 4,
 "nbformat_minor": 5
}
